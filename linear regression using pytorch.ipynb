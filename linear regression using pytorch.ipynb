{
 "cells": [
  {
   "cell_type": "markdown",
   "id": "02253b16",
   "metadata": {},
   "source": [
    "## `Linear` Regression will work as `single layer`  NN."
   ]
  },
  {
   "cell_type": "code",
   "execution_count": 70,
   "id": "aa1104df",
   "metadata": {},
   "outputs": [],
   "source": [
    "import torch\n",
    "import torch.nn as nn\n",
    "import pandas as pd\n",
    "from matplotlib import pyplot as plt"
   ]
  },
  {
   "cell_type": "code",
   "execution_count": 26,
   "id": "b4f57572",
   "metadata": {},
   "outputs": [],
   "source": [
    "from sklearn.datasets import make_regression "
   ]
  },
  {
   "cell_type": "code",
   "execution_count": 38,
   "id": "e9e35882",
   "metadata": {},
   "outputs": [],
   "source": [
    "df = make_regression( n_samples = 2000, n_features = 10, n_informative = 8, n_targets = 1, random_state = 123)"
   ]
  },
  {
   "cell_type": "code",
   "execution_count": 39,
   "id": "d7655725",
   "metadata": {},
   "outputs": [
    {
     "data": {
      "text/plain": [
       "array([[-1.46430365,  0.83434309,  0.78323336, ...,  0.02339083,\n",
       "        -0.64059315,  0.5019276 ],\n",
       "       [ 1.06610427, -0.88228741,  0.3666786 , ..., -0.53130523,\n",
       "        -0.79652841,  0.71211583],\n",
       "       [-0.79624606, -0.70613644, -0.45496319, ..., -0.50598312,\n",
       "        -0.79663015, -0.53181232],\n",
       "       ...,\n",
       "       [ 0.0479694 , -0.90002479, -0.50162825, ...,  2.3056804 ,\n",
       "         1.39530594,  0.13062108],\n",
       "       [ 1.28589063, -1.09870752, -1.70515222, ...,  1.0022698 ,\n",
       "         1.70273529,  0.35369488],\n",
       "       [-0.46358317, -1.31841143, -0.89540659, ...,  0.53473693,\n",
       "        -1.32686991, -0.22753403]])"
      ]
     },
     "execution_count": 39,
     "metadata": {},
     "output_type": "execute_result"
    }
   ],
   "source": [
    "df[0]"
   ]
  },
  {
   "cell_type": "markdown",
   "id": "e0bf210b",
   "metadata": {},
   "source": [
    "### In the above data frame df[0] & df[1] are the input values and the lables."
   ]
  },
  {
   "cell_type": "code",
   "execution_count": 40,
   "id": "cb69d13d",
   "metadata": {},
   "outputs": [
    {
     "data": {
      "text/plain": [
       "array([[-1.46430365,  0.83434309,  0.78323336, ...,  0.02339083,\n",
       "        -0.64059315,  0.5019276 ],\n",
       "       [ 1.06610427, -0.88228741,  0.3666786 , ..., -0.53130523,\n",
       "        -0.79652841,  0.71211583],\n",
       "       [-0.79624606, -0.70613644, -0.45496319, ..., -0.50598312,\n",
       "        -0.79663015, -0.53181232],\n",
       "       ...,\n",
       "       [ 0.0479694 , -0.90002479, -0.50162825, ...,  2.3056804 ,\n",
       "         1.39530594,  0.13062108],\n",
       "       [ 1.28589063, -1.09870752, -1.70515222, ...,  1.0022698 ,\n",
       "         1.70273529,  0.35369488],\n",
       "       [-0.46358317, -1.31841143, -0.89540659, ...,  0.53473693,\n",
       "        -1.32686991, -0.22753403]])"
      ]
     },
     "execution_count": 40,
     "metadata": {},
     "output_type": "execute_result"
    }
   ],
   "source": [
    "df[0]"
   ]
  },
  {
   "cell_type": "code",
   "execution_count": 45,
   "id": "3b7e231b",
   "metadata": {},
   "outputs": [
    {
     "data": {
      "text/plain": [
       "array([ 172.53691983,  215.21121552, -158.98289059, ...,   34.83439164,\n",
       "         55.95314496, -290.58068989])"
      ]
     },
     "execution_count": 45,
     "metadata": {},
     "output_type": "execute_result"
    }
   ],
   "source": [
    "df[1]"
   ]
  },
  {
   "cell_type": "code",
   "execution_count": 42,
   "id": "970dfc88",
   "metadata": {},
   "outputs": [
    {
     "data": {
      "text/html": [
       "<div>\n",
       "<style scoped>\n",
       "    .dataframe tbody tr th:only-of-type {\n",
       "        vertical-align: middle;\n",
       "    }\n",
       "\n",
       "    .dataframe tbody tr th {\n",
       "        vertical-align: top;\n",
       "    }\n",
       "\n",
       "    .dataframe thead th {\n",
       "        text-align: right;\n",
       "    }\n",
       "</style>\n",
       "<table border=\"1\" class=\"dataframe\">\n",
       "  <thead>\n",
       "    <tr style=\"text-align: right;\">\n",
       "      <th></th>\n",
       "      <th>0</th>\n",
       "      <th>1</th>\n",
       "      <th>2</th>\n",
       "      <th>3</th>\n",
       "      <th>4</th>\n",
       "      <th>5</th>\n",
       "      <th>6</th>\n",
       "      <th>7</th>\n",
       "      <th>8</th>\n",
       "      <th>9</th>\n",
       "    </tr>\n",
       "  </thead>\n",
       "  <tbody>\n",
       "    <tr>\n",
       "      <th>0</th>\n",
       "      <td>-1.464304</td>\n",
       "      <td>0.834343</td>\n",
       "      <td>0.783233</td>\n",
       "      <td>1.620294</td>\n",
       "      <td>1.051837</td>\n",
       "      <td>1.359688</td>\n",
       "      <td>0.990387</td>\n",
       "      <td>0.023391</td>\n",
       "      <td>-0.640593</td>\n",
       "      <td>0.501928</td>\n",
       "    </tr>\n",
       "    <tr>\n",
       "      <th>1</th>\n",
       "      <td>1.066104</td>\n",
       "      <td>-0.882287</td>\n",
       "      <td>0.366679</td>\n",
       "      <td>0.691810</td>\n",
       "      <td>1.440743</td>\n",
       "      <td>-1.109329</td>\n",
       "      <td>1.426170</td>\n",
       "      <td>-0.531305</td>\n",
       "      <td>-0.796528</td>\n",
       "      <td>0.712116</td>\n",
       "    </tr>\n",
       "    <tr>\n",
       "      <th>2</th>\n",
       "      <td>-0.796246</td>\n",
       "      <td>-0.706136</td>\n",
       "      <td>-0.454963</td>\n",
       "      <td>-0.889072</td>\n",
       "      <td>0.265999</td>\n",
       "      <td>2.214242</td>\n",
       "      <td>-0.714103</td>\n",
       "      <td>-0.505983</td>\n",
       "      <td>-0.796630</td>\n",
       "      <td>-0.531812</td>\n",
       "    </tr>\n",
       "    <tr>\n",
       "      <th>3</th>\n",
       "      <td>0.052521</td>\n",
       "      <td>0.937710</td>\n",
       "      <td>-1.219606</td>\n",
       "      <td>0.183837</td>\n",
       "      <td>0.335267</td>\n",
       "      <td>0.926475</td>\n",
       "      <td>0.457570</td>\n",
       "      <td>-2.120475</td>\n",
       "      <td>0.412166</td>\n",
       "      <td>0.483326</td>\n",
       "    </tr>\n",
       "    <tr>\n",
       "      <th>4</th>\n",
       "      <td>-0.932933</td>\n",
       "      <td>1.436673</td>\n",
       "      <td>-1.419069</td>\n",
       "      <td>0.923696</td>\n",
       "      <td>-0.106441</td>\n",
       "      <td>1.506170</td>\n",
       "      <td>-0.971641</td>\n",
       "      <td>-3.040497</td>\n",
       "      <td>1.272624</td>\n",
       "      <td>1.012440</td>\n",
       "    </tr>\n",
       "    <tr>\n",
       "      <th>...</th>\n",
       "      <td>...</td>\n",
       "      <td>...</td>\n",
       "      <td>...</td>\n",
       "      <td>...</td>\n",
       "      <td>...</td>\n",
       "      <td>...</td>\n",
       "      <td>...</td>\n",
       "      <td>...</td>\n",
       "      <td>...</td>\n",
       "      <td>...</td>\n",
       "    </tr>\n",
       "    <tr>\n",
       "      <th>1995</th>\n",
       "      <td>0.545908</td>\n",
       "      <td>2.119462</td>\n",
       "      <td>-0.806582</td>\n",
       "      <td>-1.029152</td>\n",
       "      <td>-0.146403</td>\n",
       "      <td>0.672919</td>\n",
       "      <td>-0.443816</td>\n",
       "      <td>-0.518905</td>\n",
       "      <td>-0.221915</td>\n",
       "      <td>0.023623</td>\n",
       "    </tr>\n",
       "    <tr>\n",
       "      <th>1996</th>\n",
       "      <td>-0.202461</td>\n",
       "      <td>0.095117</td>\n",
       "      <td>-0.737995</td>\n",
       "      <td>-0.225763</td>\n",
       "      <td>0.268916</td>\n",
       "      <td>-0.368158</td>\n",
       "      <td>-0.790039</td>\n",
       "      <td>1.231454</td>\n",
       "      <td>-1.366324</td>\n",
       "      <td>1.577189</td>\n",
       "    </tr>\n",
       "    <tr>\n",
       "      <th>1997</th>\n",
       "      <td>0.047969</td>\n",
       "      <td>-0.900025</td>\n",
       "      <td>-0.501628</td>\n",
       "      <td>0.551160</td>\n",
       "      <td>-0.760390</td>\n",
       "      <td>-0.578815</td>\n",
       "      <td>-0.302958</td>\n",
       "      <td>2.305680</td>\n",
       "      <td>1.395306</td>\n",
       "      <td>0.130621</td>\n",
       "    </tr>\n",
       "    <tr>\n",
       "      <th>1998</th>\n",
       "      <td>1.285891</td>\n",
       "      <td>-1.098708</td>\n",
       "      <td>-1.705152</td>\n",
       "      <td>0.954331</td>\n",
       "      <td>0.384872</td>\n",
       "      <td>-0.934160</td>\n",
       "      <td>-1.163658</td>\n",
       "      <td>1.002270</td>\n",
       "      <td>1.702735</td>\n",
       "      <td>0.353695</td>\n",
       "    </tr>\n",
       "    <tr>\n",
       "      <th>1999</th>\n",
       "      <td>-0.463583</td>\n",
       "      <td>-1.318411</td>\n",
       "      <td>-0.895407</td>\n",
       "      <td>0.456868</td>\n",
       "      <td>0.241443</td>\n",
       "      <td>-2.156025</td>\n",
       "      <td>0.042332</td>\n",
       "      <td>0.534737</td>\n",
       "      <td>-1.326870</td>\n",
       "      <td>-0.227534</td>\n",
       "    </tr>\n",
       "  </tbody>\n",
       "</table>\n",
       "<p>2000 rows × 10 columns</p>\n",
       "</div>"
      ],
      "text/plain": [
       "             0         1         2         3         4         5         6  \\\n",
       "0    -1.464304  0.834343  0.783233  1.620294  1.051837  1.359688  0.990387   \n",
       "1     1.066104 -0.882287  0.366679  0.691810  1.440743 -1.109329  1.426170   \n",
       "2    -0.796246 -0.706136 -0.454963 -0.889072  0.265999  2.214242 -0.714103   \n",
       "3     0.052521  0.937710 -1.219606  0.183837  0.335267  0.926475  0.457570   \n",
       "4    -0.932933  1.436673 -1.419069  0.923696 -0.106441  1.506170 -0.971641   \n",
       "...        ...       ...       ...       ...       ...       ...       ...   \n",
       "1995  0.545908  2.119462 -0.806582 -1.029152 -0.146403  0.672919 -0.443816   \n",
       "1996 -0.202461  0.095117 -0.737995 -0.225763  0.268916 -0.368158 -0.790039   \n",
       "1997  0.047969 -0.900025 -0.501628  0.551160 -0.760390 -0.578815 -0.302958   \n",
       "1998  1.285891 -1.098708 -1.705152  0.954331  0.384872 -0.934160 -1.163658   \n",
       "1999 -0.463583 -1.318411 -0.895407  0.456868  0.241443 -2.156025  0.042332   \n",
       "\n",
       "             7         8         9  \n",
       "0     0.023391 -0.640593  0.501928  \n",
       "1    -0.531305 -0.796528  0.712116  \n",
       "2    -0.505983 -0.796630 -0.531812  \n",
       "3    -2.120475  0.412166  0.483326  \n",
       "4    -3.040497  1.272624  1.012440  \n",
       "...        ...       ...       ...  \n",
       "1995 -0.518905 -0.221915  0.023623  \n",
       "1996  1.231454 -1.366324  1.577189  \n",
       "1997  2.305680  1.395306  0.130621  \n",
       "1998  1.002270  1.702735  0.353695  \n",
       "1999  0.534737 -1.326870 -0.227534  \n",
       "\n",
       "[2000 rows x 10 columns]"
      ]
     },
     "execution_count": 42,
     "metadata": {},
     "output_type": "execute_result"
    }
   ],
   "source": [
    "df_d = pd.DataFrame(df[0])\n",
    "df_d"
   ]
  },
  {
   "cell_type": "code",
   "execution_count": 44,
   "id": "7f74b5d8",
   "metadata": {},
   "outputs": [
    {
     "data": {
      "text/plain": [
       "numpy.ndarray"
      ]
     },
     "execution_count": 44,
     "metadata": {},
     "output_type": "execute_result"
    }
   ],
   "source": [
    "type(df[0])"
   ]
  },
  {
   "cell_type": "markdown",
   "id": "be912dd3",
   "metadata": {},
   "source": [
    "### Convert data from numpy nd array to a tensor."
   ]
  },
  {
   "cell_type": "markdown",
   "id": "634fa69d",
   "metadata": {},
   "source": [
    "### As you can see that df[1], df[0] was the arrays and now X, Y are the tensors., [..., None] way to change the size as required [2000,1]"
   ]
  },
  {
   "cell_type": "code",
   "execution_count": 90,
   "id": "8589d9a9",
   "metadata": {},
   "outputs": [],
   "source": [
    "X = torch.from_numpy(df[0]).float()\n",
    "Y = torch.from_numpy(df[1])[..., None].float()"
   ]
  },
  {
   "cell_type": "code",
   "execution_count": 91,
   "id": "fde64c8f",
   "metadata": {},
   "outputs": [
    {
     "data": {
      "text/plain": [
       "torch.Size([2000, 1])"
      ]
     },
     "execution_count": 91,
     "metadata": {},
     "output_type": "execute_result"
    }
   ],
   "source": [
    "Y.shape"
   ]
  },
  {
   "cell_type": "markdown",
   "id": "d7732215",
   "metadata": {},
   "source": [
    "### Now we will define our linear layer that will work as regression model."
   ]
  },
  {
   "cell_type": "code",
   "execution_count": 92,
   "id": "613d2051",
   "metadata": {},
   "outputs": [],
   "source": [
    "layer1 = nn.Linear(10,1)"
   ]
  },
  {
   "cell_type": "markdown",
   "id": "5a83ad94",
   "metadata": {},
   "source": [
    "### Loss function"
   ]
  },
  {
   "cell_type": "code",
   "execution_count": 93,
   "id": "d0215bbf",
   "metadata": {},
   "outputs": [],
   "source": [
    "loss_fn = nn.MSELoss()"
   ]
  },
  {
   "cell_type": "markdown",
   "id": "375b4ddc",
   "metadata": {},
   "source": [
    "### Optimizer defining "
   ]
  },
  {
   "cell_type": "code",
   "execution_count": 94,
   "id": "32f9a0c3",
   "metadata": {},
   "outputs": [],
   "source": [
    "optimizer = torch.optim.SGD(layer1.parameters(), lr = 0.001)"
   ]
  },
  {
   "cell_type": "code",
   "execution_count": 95,
   "id": "1ef03956",
   "metadata": {},
   "outputs": [],
   "source": [
    "num_epochs = 10000\n",
    "all_losses = []\n",
    "output = layer1(X)\n",
    "\n",
    "for epoch in range(num_epochs):\n",
    "    output = layer1(X)\n",
    "    loss = loss_fn(output, Y)\n",
    "    all_losses.append(loss.detach().numpy())\n",
    "    \n",
    "    optimizer.zero_grad()\n",
    "    loss.backward()\n",
    "    optimizer.step()\n",
    "    \n"
   ]
  },
  {
   "cell_type": "code",
   "execution_count": 103,
   "id": "366677dc",
   "metadata": {},
   "outputs": [
    {
     "data": {
      "image/png": "[encoded data removed]",
      "text/plain": [
       "<Figure size 640x480 with 1 Axes>"
      ]
     },
     "metadata": {},
     "output_type": "display_data"
    },
    {
     "data": {
      "text/plain": [
       "array(1.6859587e-05, dtype=float32)"
      ]
     },
     "execution_count": 103,
     "metadata": {},
     "output_type": "execute_result"
    }
   ],
   "source": [
    "plt.xlabel(\"Loss\")\n",
    "plt.ylabel(\"Epochs\")\n",
    "plt.title(\"Loss function\")\n",
    "plt.plot(all_losses)\n",
    "\n",
    "plt.show()\n",
    "all_losses[-1]"
   ]
  },
  {
   "cell_type": "code",
   "execution_count": null,
   "id": "76781742",
   "metadata": {},
   "outputs": [],
   "source": []
  }
 ],
 "metadata": {
  "kernelspec": {
   "display_name": "Python 3 (ipykernel)",
   "language": "python",
   "name": "python3"
  },
  "language_info": {
   "codemirror_mode": {
    "name": "ipython",
    "version": 3
   },
   "file_extension": ".py",
   "mimetype": "text/x-python",
   "name": "python",
   "nbconvert_exporter": "python",
   "pygments_lexer": "ipython3",
   "version": "3.8.10"
  }
 },
 "nbformat": 4,
 "nbformat_minor": 5
}
