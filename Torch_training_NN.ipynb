{
  "nbformat": 4,
  "nbformat_minor": 0,
  "metadata": {
    "colab": {
      "provenance": []
    },
    "kernelspec": {
      "name": "python3",
      "display_name": "Python 3"
    },
    "language_info": {
      "name": "python"
    }
  },
  "cells": [
    {
      "cell_type": "code",
      "execution_count": 63,
      "metadata": {
        "id": "RMCRY8akeaU2"
      },
      "outputs": [],
      "source": [
        "import pandas as pd\n",
        "import numpy as np\n",
        "import torch\n",
        "import torch.nn as nn\n",
        "import matplotlib.pyplot as plt\n",
        "from sklearn.datasets import make_classification\n",
        "from sklearn.model_selection import train_test_split\n"
      ]
    },
    {
      "cell_type": "code",
      "source": [
        "x, y = make_classification(n_samples = 200, n_features = 10, n_informative= 8, random_state= 123, n_classes= 2)\n"
      ],
      "metadata": {
        "id": "N2NmKJEaeeiC"
      },
      "execution_count": 76,
      "outputs": []
    },
    {
      "cell_type": "code",
      "source": [
        "X = pd.DataFrame(x)\n",
        "X"
      ],
      "metadata": {
        "colab": {
          "base_uri": "https://localhost:8080/",
          "height": 424
        },
        "id": "KTB_Z4rce6nQ",
        "outputId": "9216a537-1629-4d31-fe55-49c056696b82"
      },
      "execution_count": 77,
      "outputs": [
        {
          "output_type": "execute_result",
          "data": {
            "text/plain": [
              "            0         1         2         3         4         5         6  \\\n",
              "0    1.072662 -0.025180  2.039490  6.987663 -0.994942 -4.666231 -1.305667   \n",
              "1   -1.034861  2.745424  2.524558  5.187755  1.798288 -3.331549  0.179398   \n",
              "2   -0.262778 -0.959441 -0.720918 -4.921131  3.999838  4.306461 -1.930580   \n",
              "3   -0.260763  0.690369  1.338698 -3.172155  1.470751  2.261115  2.193554   \n",
              "4   -3.335322 -2.195076  2.409516  2.834552  1.363204 -2.637000  1.557034   \n",
              "..        ...       ...       ...       ...       ...       ...       ...   \n",
              "195 -0.161707  0.718671  1.186081 -0.531795  0.937112  1.848333  1.649165   \n",
              "196  6.326934  2.793732  0.802476 -5.603039  2.506428  3.796124  1.371808   \n",
              "197 -2.693617 -0.364149  2.428559  7.483534  2.015234 -3.376025 -1.758395   \n",
              "198  3.841559  0.834111 -0.567003 -6.869366  2.334352  3.500315  1.700409   \n",
              "199 -2.248218 -0.699420  0.770286  6.361468  1.589114 -2.539345 -2.134186   \n",
              "\n",
              "            7         8         9  \n",
              "0   -3.229949  1.261343 -1.357878  \n",
              "1   -5.037283 -1.520349 -0.267093  \n",
              "2    4.566675 -2.035988 -1.356747  \n",
              "3   -0.674542 -0.306816  2.727255  \n",
              "4   -5.424169 -0.848868 -0.072923  \n",
              "..        ...       ...       ...  \n",
              "195  0.687942 -0.369239 -1.106829  \n",
              "196  4.098986 -1.365940  0.278965  \n",
              "197 -3.185240  0.677932 -1.781809  \n",
              "198  3.247603 -1.414955  1.295988  \n",
              "199 -0.776625  1.624044 -1.751223  \n",
              "\n",
              "[200 rows x 10 columns]"
            ],
            "text/html": [
              "\n",
              "  <div id=\"df-185dcd1c-6d0b-4d01-8d86-622770e6335b\" class=\"colab-df-container\">\n",
              "    <div>\n",
              "<style scoped>\n",
              "    .dataframe tbody tr th:only-of-type {\n",
              "        vertical-align: middle;\n",
              "    }\n",
              "\n",
              "    .dataframe tbody tr th {\n",
              "        vertical-align: top;\n",
              "    }\n",
              "\n",
              "    .dataframe thead th {\n",
              "        text-align: right;\n",
              "    }\n",
              "</style>\n",
              "<table border=\"1\" class=\"dataframe\">\n",
              "  <thead>\n",
              "    <tr style=\"text-align: right;\">\n",
              "      <th></th>\n",
              "      <th>0</th>\n",
              "      <th>1</th>\n",
              "      <th>2</th>\n",
              "      <th>3</th>\n",
              "      <th>4</th>\n",
              "      <th>5</th>\n",
              "      <th>6</th>\n",
              "      <th>7</th>\n",
              "      <th>8</th>\n",
              "      <th>9</th>\n",
              "    </tr>\n",
              "  </thead>\n",
              "  <tbody>\n",
              "    <tr>\n",
              "      <th>0</th>\n",
              "      <td>1.072662</td>\n",
              "      <td>-0.025180</td>\n",
              "      <td>2.039490</td>\n",
              "      <td>6.987663</td>\n",
              "      <td>-0.994942</td>\n",
              "      <td>-4.666231</td>\n",
              "      <td>-1.305667</td>\n",
              "      <td>-3.229949</td>\n",
              "      <td>1.261343</td>\n",
              "      <td>-1.357878</td>\n",
              "    </tr>\n",
              "    <tr>\n",
              "      <th>1</th>\n",
              "      <td>-1.034861</td>\n",
              "      <td>2.745424</td>\n",
              "      <td>2.524558</td>\n",
              "      <td>5.187755</td>\n",
              "      <td>1.798288</td>\n",
              "      <td>-3.331549</td>\n",
              "      <td>0.179398</td>\n",
              "      <td>-5.037283</td>\n",
              "      <td>-1.520349</td>\n",
              "      <td>-0.267093</td>\n",
              "    </tr>\n",
              "    <tr>\n",
              "      <th>2</th>\n",
              "      <td>-0.262778</td>\n",
              "      <td>-0.959441</td>\n",
              "      <td>-0.720918</td>\n",
              "      <td>-4.921131</td>\n",
              "      <td>3.999838</td>\n",
              "      <td>4.306461</td>\n",
              "      <td>-1.930580</td>\n",
              "      <td>4.566675</td>\n",
              "      <td>-2.035988</td>\n",
              "      <td>-1.356747</td>\n",
              "    </tr>\n",
              "    <tr>\n",
              "      <th>3</th>\n",
              "      <td>-0.260763</td>\n",
              "      <td>0.690369</td>\n",
              "      <td>1.338698</td>\n",
              "      <td>-3.172155</td>\n",
              "      <td>1.470751</td>\n",
              "      <td>2.261115</td>\n",
              "      <td>2.193554</td>\n",
              "      <td>-0.674542</td>\n",
              "      <td>-0.306816</td>\n",
              "      <td>2.727255</td>\n",
              "    </tr>\n",
              "    <tr>\n",
              "      <th>4</th>\n",
              "      <td>-3.335322</td>\n",
              "      <td>-2.195076</td>\n",
              "      <td>2.409516</td>\n",
              "      <td>2.834552</td>\n",
              "      <td>1.363204</td>\n",
              "      <td>-2.637000</td>\n",
              "      <td>1.557034</td>\n",
              "      <td>-5.424169</td>\n",
              "      <td>-0.848868</td>\n",
              "      <td>-0.072923</td>\n",
              "    </tr>\n",
              "    <tr>\n",
              "      <th>...</th>\n",
              "      <td>...</td>\n",
              "      <td>...</td>\n",
              "      <td>...</td>\n",
              "      <td>...</td>\n",
              "      <td>...</td>\n",
              "      <td>...</td>\n",
              "      <td>...</td>\n",
              "      <td>...</td>\n",
              "      <td>...</td>\n",
              "      <td>...</td>\n",
              "    </tr>\n",
              "    <tr>\n",
              "      <th>195</th>\n",
              "      <td>-0.161707</td>\n",
              "      <td>0.718671</td>\n",
              "      <td>1.186081</td>\n",
              "      <td>-0.531795</td>\n",
              "      <td>0.937112</td>\n",
              "      <td>1.848333</td>\n",
              "      <td>1.649165</td>\n",
              "      <td>0.687942</td>\n",
              "      <td>-0.369239</td>\n",
              "      <td>-1.106829</td>\n",
              "    </tr>\n",
              "    <tr>\n",
              "      <th>196</th>\n",
              "      <td>6.326934</td>\n",
              "      <td>2.793732</td>\n",
              "      <td>0.802476</td>\n",
              "      <td>-5.603039</td>\n",
              "      <td>2.506428</td>\n",
              "      <td>3.796124</td>\n",
              "      <td>1.371808</td>\n",
              "      <td>4.098986</td>\n",
              "      <td>-1.365940</td>\n",
              "      <td>0.278965</td>\n",
              "    </tr>\n",
              "    <tr>\n",
              "      <th>197</th>\n",
              "      <td>-2.693617</td>\n",
              "      <td>-0.364149</td>\n",
              "      <td>2.428559</td>\n",
              "      <td>7.483534</td>\n",
              "      <td>2.015234</td>\n",
              "      <td>-3.376025</td>\n",
              "      <td>-1.758395</td>\n",
              "      <td>-3.185240</td>\n",
              "      <td>0.677932</td>\n",
              "      <td>-1.781809</td>\n",
              "    </tr>\n",
              "    <tr>\n",
              "      <th>198</th>\n",
              "      <td>3.841559</td>\n",
              "      <td>0.834111</td>\n",
              "      <td>-0.567003</td>\n",
              "      <td>-6.869366</td>\n",
              "      <td>2.334352</td>\n",
              "      <td>3.500315</td>\n",
              "      <td>1.700409</td>\n",
              "      <td>3.247603</td>\n",
              "      <td>-1.414955</td>\n",
              "      <td>1.295988</td>\n",
              "    </tr>\n",
              "    <tr>\n",
              "      <th>199</th>\n",
              "      <td>-2.248218</td>\n",
              "      <td>-0.699420</td>\n",
              "      <td>0.770286</td>\n",
              "      <td>6.361468</td>\n",
              "      <td>1.589114</td>\n",
              "      <td>-2.539345</td>\n",
              "      <td>-2.134186</td>\n",
              "      <td>-0.776625</td>\n",
              "      <td>1.624044</td>\n",
              "      <td>-1.751223</td>\n",
              "    </tr>\n",
              "  </tbody>\n",
              "</table>\n",
              "<p>200 rows × 10 columns</p>\n",
              "</div>\n",
              "    <div class=\"colab-df-buttons\">\n",
              "\n",
              "  <div class=\"colab-df-container\">\n",
              "    <button class=\"colab-df-convert\" onclick=\"convertToInteractive('df-185dcd1c-6d0b-4d01-8d86-622770e6335b')\"\n",
              "            title=\"Convert this dataframe to an interactive table.\"\n",
              "            style=\"display:none;\">\n",
              "\n",
              "  <svg xmlns=\"http://www.w3.org/2000/svg\" height=\"24px\" viewBox=\"0 -960 960 960\">\n",
              "    <path d=\"M120-120v-720h720v720H120Zm60-500h600v-160H180v160Zm220 220h160v-160H400v160Zm0 220h160v-160H400v160ZM180-400h160v-160H180v160Zm440 0h160v-160H620v160ZM180-180h160v-160H180v160Zm440 0h160v-160H620v160Z\"/>\n",
              "  </svg>\n",
              "    </button>\n",
              "\n",
              "  <style>\n",
              "    .colab-df-container {\n",
              "      display:flex;\n",
              "      gap: 12px;\n",
              "    }\n",
              "\n",
              "    .colab-df-convert {\n",
              "      background-color: #E8F0FE;\n",
              "      border: none;\n",
              "      border-radius: 50%;\n",
              "      cursor: pointer;\n",
              "      display: none;\n",
              "      fill: #1967D2;\n",
              "      height: 32px;\n",
              "      padding: 0 0 0 0;\n",
              "      width: 32px;\n",
              "    }\n",
              "\n",
              "    .colab-df-convert:hover {\n",
              "      background-color: #E2EBFA;\n",
              "      box-shadow: 0px 1px 2px rgba(60, 64, 67, 0.3), 0px 1px 3px 1px rgba(60, 64, 67, 0.15);\n",
              "      fill: #174EA6;\n",
              "    }\n",
              "\n",
              "    .colab-df-buttons div {\n",
              "      margin-bottom: 4px;\n",
              "    }\n",
              "\n",
              "    [theme=dark] .colab-df-convert {\n",
              "      background-color: #3B4455;\n",
              "      fill: #D2E3FC;\n",
              "    }\n",
              "\n",
              "    [theme=dark] .colab-df-convert:hover {\n",
              "      background-color: #434B5C;\n",
              "      box-shadow: 0px 1px 3px 1px rgba(0, 0, 0, 0.15);\n",
              "      filter: drop-shadow(0px 1px 2px rgba(0, 0, 0, 0.3));\n",
              "      fill: #FFFFFF;\n",
              "    }\n",
              "  </style>\n",
              "\n",
              "    <script>\n",
              "      const buttonEl =\n",
              "        document.querySelector('#df-185dcd1c-6d0b-4d01-8d86-622770e6335b button.colab-df-convert');\n",
              "      buttonEl.style.display =\n",
              "        google.colab.kernel.accessAllowed ? 'block' : 'none';\n",
              "\n",
              "      async function convertToInteractive(key) {\n",
              "        const element = document.querySelector('#df-185dcd1c-6d0b-4d01-8d86-622770e6335b');\n",
              "        const dataTable =\n",
              "          await google.colab.kernel.invokeFunction('convertToInteractive',\n",
              "                                                    [key], {});\n",
              "        if (!dataTable) return;\n",
              "\n",
              "        const docLinkHtml = 'Like what you see? Visit the ' +\n",
              "          '<a target=\"_blank\" href=https://colab.research.google.com/notebooks/data_table.ipynb>data table notebook</a>'\n",
              "          + ' to learn more about interactive tables.';\n",
              "        element.innerHTML = '';\n",
              "        dataTable['output_type'] = 'display_data';\n",
              "        await google.colab.output.renderOutput(dataTable, element);\n",
              "        const docLink = document.createElement('div');\n",
              "        docLink.innerHTML = docLinkHtml;\n",
              "        element.appendChild(docLink);\n",
              "      }\n",
              "    </script>\n",
              "  </div>\n",
              "\n",
              "\n",
              "<div id=\"df-04795052-b81c-4275-bd07-d39cf43b7850\">\n",
              "  <button class=\"colab-df-quickchart\" onclick=\"quickchart('df-04795052-b81c-4275-bd07-d39cf43b7850')\"\n",
              "            title=\"Suggest charts\"\n",
              "            style=\"display:none;\">\n",
              "\n",
              "<svg xmlns=\"http://www.w3.org/2000/svg\" height=\"24px\"viewBox=\"0 0 24 24\"\n",
              "     width=\"24px\">\n",
              "    <g>\n",
              "        <path d=\"M19 3H5c-1.1 0-2 .9-2 2v14c0 1.1.9 2 2 2h14c1.1 0 2-.9 2-2V5c0-1.1-.9-2-2-2zM9 17H7v-7h2v7zm4 0h-2V7h2v10zm4 0h-2v-4h2v4z\"/>\n",
              "    </g>\n",
              "</svg>\n",
              "  </button>\n",
              "\n",
              "<style>\n",
              "  .colab-df-quickchart {\n",
              "      --bg-color: #E8F0FE;\n",
              "      --fill-color: #1967D2;\n",
              "      --hover-bg-color: #E2EBFA;\n",
              "      --hover-fill-color: #174EA6;\n",
              "      --disabled-fill-color: #AAA;\n",
              "      --disabled-bg-color: #DDD;\n",
              "  }\n",
              "\n",
              "  [theme=dark] .colab-df-quickchart {\n",
              "      --bg-color: #3B4455;\n",
              "      --fill-color: #D2E3FC;\n",
              "      --hover-bg-color: #434B5C;\n",
              "      --hover-fill-color: #FFFFFF;\n",
              "      --disabled-bg-color: #3B4455;\n",
              "      --disabled-fill-color: #666;\n",
              "  }\n",
              "\n",
              "  .colab-df-quickchart {\n",
              "    background-color: var(--bg-color);\n",
              "    border: none;\n",
              "    border-radius: 50%;\n",
              "    cursor: pointer;\n",
              "    display: none;\n",
              "    fill: var(--fill-color);\n",
              "    height: 32px;\n",
              "    padding: 0;\n",
              "    width: 32px;\n",
              "  }\n",
              "\n",
              "  .colab-df-quickchart:hover {\n",
              "    background-color: var(--hover-bg-color);\n",
              "    box-shadow: 0 1px 2px rgba(60, 64, 67, 0.3), 0 1px 3px 1px rgba(60, 64, 67, 0.15);\n",
              "    fill: var(--button-hover-fill-color);\n",
              "  }\n",
              "\n",
              "  .colab-df-quickchart-complete:disabled,\n",
              "  .colab-df-quickchart-complete:disabled:hover {\n",
              "    background-color: var(--disabled-bg-color);\n",
              "    fill: var(--disabled-fill-color);\n",
              "    box-shadow: none;\n",
              "  }\n",
              "\n",
              "  .colab-df-spinner {\n",
              "    border: 2px solid var(--fill-color);\n",
              "    border-color: transparent;\n",
              "    border-bottom-color: var(--fill-color);\n",
              "    animation:\n",
              "      spin 1s steps(1) infinite;\n",
              "  }\n",
              "\n",
              "  @keyframes spin {\n",
              "    0% {\n",
              "      border-color: transparent;\n",
              "      border-bottom-color: var(--fill-color);\n",
              "      border-left-color: var(--fill-color);\n",
              "    }\n",
              "    20% {\n",
              "      border-color: transparent;\n",
              "      border-left-color: var(--fill-color);\n",
              "      border-top-color: var(--fill-color);\n",
              "    }\n",
              "    30% {\n",
              "      border-color: transparent;\n",
              "      border-left-color: var(--fill-color);\n",
              "      border-top-color: var(--fill-color);\n",
              "      border-right-color: var(--fill-color);\n",
              "    }\n",
              "    40% {\n",
              "      border-color: transparent;\n",
              "      border-right-color: var(--fill-color);\n",
              "      border-top-color: var(--fill-color);\n",
              "    }\n",
              "    60% {\n",
              "      border-color: transparent;\n",
              "      border-right-color: var(--fill-color);\n",
              "    }\n",
              "    80% {\n",
              "      border-color: transparent;\n",
              "      border-right-color: var(--fill-color);\n",
              "      border-bottom-color: var(--fill-color);\n",
              "    }\n",
              "    90% {\n",
              "      border-color: transparent;\n",
              "      border-bottom-color: var(--fill-color);\n",
              "    }\n",
              "  }\n",
              "</style>\n",
              "\n",
              "  <script>\n",
              "    async function quickchart(key) {\n",
              "      const quickchartButtonEl =\n",
              "        document.querySelector('#' + key + ' button');\n",
              "      quickchartButtonEl.disabled = true;  // To prevent multiple clicks.\n",
              "      quickchartButtonEl.classList.add('colab-df-spinner');\n",
              "      try {\n",
              "        const charts = await google.colab.kernel.invokeFunction(\n",
              "            'suggestCharts', [key], {});\n",
              "      } catch (error) {\n",
              "        console.error('Error during call to suggestCharts:', error);\n",
              "      }\n",
              "      quickchartButtonEl.classList.remove('colab-df-spinner');\n",
              "      quickchartButtonEl.classList.add('colab-df-quickchart-complete');\n",
              "    }\n",
              "    (() => {\n",
              "      let quickchartButtonEl =\n",
              "        document.querySelector('#df-04795052-b81c-4275-bd07-d39cf43b7850 button');\n",
              "      quickchartButtonEl.style.display =\n",
              "        google.colab.kernel.accessAllowed ? 'block' : 'none';\n",
              "    })();\n",
              "  </script>\n",
              "</div>\n",
              "    </div>\n",
              "  </div>\n"
            ]
          },
          "metadata": {},
          "execution_count": 77
        }
      ]
    },
    {
      "cell_type": "code",
      "source": [
        "y"
      ],
      "metadata": {
        "colab": {
          "base_uri": "https://localhost:8080/"
        },
        "id": "JcgNo24kfBpE",
        "outputId": "df3dac8f-6256-4353-8f16-f6599f901e91"
      },
      "execution_count": 78,
      "outputs": [
        {
          "output_type": "execute_result",
          "data": {
            "text/plain": [
              "array([0, 0, 0, 0, 0, 1, 1, 0, 0, 0, 0, 1, 1, 1, 1, 0, 1, 0, 0, 1, 1, 1,\n",
              "       1, 1, 0, 1, 0, 0, 0, 0, 1, 0, 0, 0, 0, 0, 1, 1, 0, 1, 0, 1, 0, 0,\n",
              "       0, 1, 0, 1, 0, 0, 1, 0, 0, 1, 1, 0, 0, 0, 0, 1, 1, 0, 0, 1, 1, 1,\n",
              "       1, 1, 0, 1, 0, 0, 0, 1, 1, 0, 1, 1, 0, 0, 1, 1, 0, 0, 0, 0, 1, 1,\n",
              "       1, 1, 1, 0, 0, 0, 1, 0, 0, 0, 0, 0, 1, 1, 0, 0, 1, 0, 1, 0, 1, 1,\n",
              "       0, 1, 1, 1, 1, 0, 0, 1, 1, 1, 1, 0, 0, 1, 0, 0, 1, 1, 0, 1, 0, 1,\n",
              "       1, 1, 1, 1, 0, 1, 1, 1, 0, 1, 1, 0, 1, 1, 0, 1, 1, 0, 0, 1, 1, 0,\n",
              "       1, 0, 1, 0, 1, 0, 0, 0, 1, 0, 1, 0, 0, 0, 1, 1, 1, 0, 1, 0, 1, 0,\n",
              "       0, 0, 0, 1, 0, 0, 0, 1, 1, 0, 1, 0, 0, 0, 1, 0, 1, 0, 1, 1, 1, 1,\n",
              "       1, 1])"
            ]
          },
          "metadata": {},
          "execution_count": 78
        }
      ]
    },
    {
      "cell_type": "code",
      "source": [
        "Train_x, Test_x, Train_y, Test_y = train_test_split(X,y)"
      ],
      "metadata": {
        "id": "JuvkTS-hfHhZ"
      },
      "execution_count": 79,
      "outputs": []
    },
    {
      "cell_type": "code",
      "source": [
        "class Dataset(torch.utils.data.Dataset):\n",
        "  def __init__(self, Train, Target):\n",
        "    self.Train = Train\n",
        "    self.Target = Target\n",
        "  def __len__(self):\n",
        "    return self.Train.shape[0]\n",
        "  def __getitem__(self,idx):\n",
        "    Train = self.Train.iloc[idx].values\n",
        "    Target = self.Target[idx]\n",
        "    Train = torch.from_numpy(Train)\n",
        "    Target = torch.tensor(Target)\n",
        "    return Train, Target\n",
        "\n"
      ],
      "metadata": {
        "id": "LKaFmuSCfYHl"
      },
      "execution_count": 80,
      "outputs": []
    },
    {
      "cell_type": "code",
      "source": [
        "type(Train_x)\n"
      ],
      "metadata": {
        "colab": {
          "base_uri": "https://localhost:8080/"
        },
        "id": "_-_ljsHtAP_Y",
        "outputId": "d287771f-88cb-4011-d9a3-06a041f1acfd"
      },
      "execution_count": 81,
      "outputs": [
        {
          "output_type": "execute_result",
          "data": {
            "text/plain": [
              "pandas.core.frame.DataFrame"
            ]
          },
          "metadata": {},
          "execution_count": 81
        }
      ]
    },
    {
      "cell_type": "code",
      "source": [
        "Dataset(Train_x,Train_y).__getitem__(1)"
      ],
      "metadata": {
        "colab": {
          "base_uri": "https://localhost:8080/"
        },
        "id": "FCBw4XvZhCaz",
        "outputId": "d5245eed-871e-4d8d-d0da-d273d9057f9c"
      },
      "execution_count": 82,
      "outputs": [
        {
          "output_type": "execute_result",
          "data": {
            "text/plain": [
              "(tensor([-0.7652, -2.9693,  1.2529, -2.3138, -1.0607,  0.5799,  2.8984, -1.8642,\n",
              "         -0.0206,  0.5722], dtype=torch.float64),\n",
              " tensor(0))"
            ]
          },
          "metadata": {},
          "execution_count": 82
        }
      ]
    },
    {
      "cell_type": "code",
      "source": [
        "Train_y"
      ],
      "metadata": {
        "colab": {
          "base_uri": "https://localhost:8080/"
        },
        "id": "-G_7SNcDPB1l",
        "outputId": "b48eaf9d-f955-4836-b0d1-ebc50d87578e"
      },
      "execution_count": 83,
      "outputs": [
        {
          "output_type": "execute_result",
          "data": {
            "text/plain": [
              "array([0, 0, 0, 0, 0, 0, 1, 0, 0, 1, 1, 0, 1, 0, 1, 0, 1, 0, 1, 0, 0, 0,\n",
              "       0, 0, 1, 1, 0, 1, 0, 1, 1, 1, 1, 0, 0, 0, 0, 0, 0, 0, 1, 1, 1, 0,\n",
              "       0, 1, 0, 0, 1, 1, 0, 1, 0, 0, 1, 1, 1, 1, 1, 1, 0, 1, 0, 0, 1, 1,\n",
              "       1, 0, 0, 1, 0, 1, 0, 0, 1, 1, 0, 1, 1, 0, 1, 1, 1, 1, 1, 0, 1, 1,\n",
              "       1, 0, 1, 0, 1, 1, 0, 1, 0, 1, 0, 0, 1, 0, 0, 0, 1, 1, 0, 0, 0, 1,\n",
              "       0, 1, 0, 1, 1, 1, 1, 0, 1, 1, 1, 1, 0, 1, 0, 1, 1, 0, 0, 0, 0, 0,\n",
              "       0, 0, 0, 0, 1, 0, 1, 1, 0, 0, 1, 0, 0, 1, 0, 0, 1, 0])"
            ]
          },
          "metadata": {},
          "execution_count": 83
        }
      ]
    },
    {
      "cell_type": "code",
      "source": [
        "train_dl = torch.utils.data.DataLoader(Dataset(Train_x, Train_y), batch_size = 120, shuffle = True, num_workers = 2, pin_memory = False)\n",
        "test_dl = torch.utils.data.DataLoader(Dataset(Test_x, Test_y),  batch_size = 120, shuffle = True, num_workers = 2, pin_memory = False )\n"
      ],
      "metadata": {
        "id": "8UjOu-Fahgo6"
      },
      "execution_count": 84,
      "outputs": []
    },
    {
      "cell_type": "code",
      "source": [
        "for data, target in train_dl:\n",
        "  print(data[0].shape)"
      ],
      "metadata": {
        "colab": {
          "base_uri": "https://localhost:8080/"
        },
        "id": "sRW08aM-nlaU",
        "outputId": "303a80e2-eed6-4718-e129-6fcf1af0eeaa"
      },
      "execution_count": 86,
      "outputs": [
        {
          "output_type": "stream",
          "name": "stdout",
          "text": [
            "torch.Size([10])\n",
            "torch.Size([10])\n"
          ]
        }
      ]
    },
    {
      "cell_type": "code",
      "source": [
        "class NN(nn.Module):\n",
        "  def __init__(self):\n",
        "    super(NN, self).__init__()\n",
        "    self.layer1 = nn.Linear(10,20)\n",
        "    self.layer2 = nn.Linear(20, 1)\n",
        "    self.Relu = nn.ReLU()\n",
        "    self.sigmoid = nn.Sigmoid()\n",
        "  def forward(self, x):\n",
        "    output1 = self.layer1(x)\n",
        "    output2 = self.Relu(output1)\n",
        "    output3 = self.layer2(output2)\n",
        "    output4 = self.Relu(output3)\n",
        "    output5 = self.sigmoid(output4)\n",
        "    return output5\n"
      ],
      "metadata": {
        "id": "WBBqkhg1kmD8"
      },
      "execution_count": 87,
      "outputs": []
    },
    {
      "cell_type": "code",
      "source": [
        "model = NN()"
      ],
      "metadata": {
        "id": "zYMliMVHlZvQ"
      },
      "execution_count": 88,
      "outputs": []
    },
    {
      "cell_type": "code",
      "source": [
        "for data, target in train_dl:\n",
        "  print(target.shape)\n"
      ],
      "metadata": {
        "colab": {
          "base_uri": "https://localhost:8080/"
        },
        "id": "xXAxAMICOf6g",
        "outputId": "6c15a0df-73d1-4828-cef3-3f2512d4f01f"
      },
      "execution_count": 89,
      "outputs": [
        {
          "output_type": "stream",
          "name": "stdout",
          "text": [
            "torch.Size([120])\n",
            "torch.Size([30])\n"
          ]
        }
      ]
    },
    {
      "cell_type": "code",
      "source": [
        "loss_fn = nn.BCELoss()\n",
        "optimizer = torch.optim.SGD(model.parameters(), lr = 0.01)"
      ],
      "metadata": {
        "id": "ll-3GzUvmv-y"
      },
      "execution_count": 94,
      "outputs": []
    },
    {
      "cell_type": "code",
      "source": [
        "num_epochs = 100\n",
        "train_losses = []\n",
        "test_losses = []\n",
        "for epoch in range(num_epochs):\n",
        "  train_epoch_loss = 0\n",
        "  test_epoch_loss = 0\n",
        "  for data, target in train_dl:\n",
        "    data = data.to(torch.float32)\n",
        "    target = target[...,None].to(torch.float32)\n",
        "    output = model(data)\n",
        "    loss = loss_fn(output, target)\n",
        "    train_epoch_loss +=loss.detach().numpy()\n",
        "    optimizer.zero_grad()\n",
        "    loss.backward()\n",
        "    optimizer.step()\n",
        "\n",
        "  with torch.no_grad():\n",
        "    for data, target in test_dl:\n",
        "      output = model(data.to(torch.float32))\n",
        "      loss = loss_fn(output, target[...,None].to(torch.float32))\n",
        "      test_epoch_loss += loss.detach().numpy()\n",
        "    train_losses.append(train_epoch_loss)\n",
        "    test_losses.append(test_epoch_loss)\n",
        ""
      ],
      "metadata": {
        "id": "HeftDOBem4rO"
      },
      "execution_count": 95,
      "outputs": []
    },
    {
      "cell_type": "code",
      "source": [
        "plt.plot(train_losses)"
      ],
      "metadata": {
        "id": "uCQ0Z7sqom0P",
        "colab": {
          "base_uri": "https://localhost:8080/",
          "height": 447
        },
        "outputId": "28d16327-12a1-4c7c-842a-acd4f71d9a63"
      },
      "execution_count": 96,
      "outputs": [
        {
          "output_type": "execute_result",
          "data": {
            "text/plain": [
              "[<matplotlib.lines.Line2D at 0x7cb25eaeabf0>]"
            ]
          },
          "metadata": {},
          "execution_count": 96
        },
        {
          "output_type": "display_data",
          "data": {
            "text/plain": [
              "<Figure size 640x480 with 1 Axes>"
            ],
            "image/png": "[encoded data removed]"
          },
          "metadata": {}
        }
      ]
    },
    {
      "cell_type": "code",
      "source": [
        "plt.plot(test_losses)"
      ],
      "metadata": {
        "colab": {
          "base_uri": "https://localhost:8080/",
          "height": 447
        },
        "id": "spSISVF7aA_N",
        "outputId": "6a24f17b-2c07-450f-ea6a-6d2b89caee10"
      },
      "execution_count": 97,
      "outputs": [
        {
          "output_type": "execute_result",
          "data": {
            "text/plain": [
              "[<matplotlib.lines.Line2D at 0x7cb25e82f8b0>]"
            ]
          },
          "metadata": {},
          "execution_count": 97
        },
        {
          "output_type": "display_data",
          "data": {
            "text/plain": [
              "<Figure size 640x480 with 1 Axes>"
            ],
            "image/png": "[encoded data removed]"
          },
          "metadata": {}
        }
      ]
    },
    {
      "cell_type": "code",
      "source": [],
      "metadata": {
        "id": "Fmju3Zs4aFJX"
      },
      "execution_count": 62,
      "outputs": []
    }
  ]
}