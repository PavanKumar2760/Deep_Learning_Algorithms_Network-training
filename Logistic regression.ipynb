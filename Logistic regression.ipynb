{
 "cells": [
  {
   "cell_type": "markdown",
   "id": "e2271a38",
   "metadata": {},
   "source": [
    "## Logistic regression"
   ]
  },
  {
   "cell_type": "code",
   "execution_count": 4,
   "id": "994d5897",
   "metadata": {},
   "outputs": [],
   "source": [
    "import torch \n",
    "import torch.nn as nn\n",
    "import pandas as pd \n",
    "import numpy as np \n",
    "import matplotlib.pyplot as plt\n",
    "from sklearn.datasets import make_classification"
   ]
  },
  {
   "cell_type": "markdown",
   "id": "e1c8d92a",
   "metadata": {},
   "source": [
    "### Creating the dataset \n"
   ]
  },
  {
   "cell_type": "markdown",
   "id": "243a60e6",
   "metadata": {},
   "source": [
    "### We need to check here in the dataset instead of n_targets we will define n_classes."
   ]
  },
  {
   "cell_type": "code",
   "execution_count": 9,
   "id": "43235cc2",
   "metadata": {},
   "outputs": [],
   "source": [
    "df = make_classification(n_samples = 2000, n_features = 10, n_informative = 8, n_classes = 2, random_state = 1234)"
   ]
  },
  {
   "cell_type": "markdown",
   "id": "2df58d58",
   "metadata": {},
   "source": [
    "### Now we will convert dataset in the torch "
   ]
  },
  {
   "cell_type": "code",
   "execution_count": 14,
   "id": "f1419626",
   "metadata": {},
   "outputs": [
    {
     "data": {
      "text/plain": [
       "(numpy.ndarray, numpy.ndarray)"
      ]
     },
     "execution_count": 14,
     "metadata": {},
     "output_type": "execute_result"
    }
   ],
   "source": [
    "type(df[1]), type(df[0])"
   ]
  },
  {
   "cell_type": "code",
   "execution_count": 18,
   "id": "10d1c18e",
   "metadata": {},
   "outputs": [],
   "source": [
    "X = torch.from_numpy(df[0]).float()\n",
    "Y = torch.from_numpy(df[1])[..., None].float()"
   ]
  },
  {
   "cell_type": "markdown",
   "id": "2b91a8a6",
   "metadata": {},
   "source": [
    "### Now we will define the model and if there is more than one layer then we will use the standerd way to define the mdodel in torch. The standert version has been shown in the below cell."
   ]
  },
  {
   "cell_type": "code",
   "execution_count": 27,
   "id": "7bccec1d",
   "metadata": {},
   "outputs": [
    {
     "ename": "SyntaxError",
     "evalue": "invalid syntax (3015973807.py, line 2)",
     "output_type": "error",
     "traceback": [
      "\u001b[0;36m  Cell \u001b[0;32mIn[27], line 2\u001b[0;36m\u001b[0m\n\u001b[0;31m    def__init__(self, var1, var2):\u001b[0m\n\u001b[0m                                  ^\u001b[0m\n\u001b[0;31mSyntaxError\u001b[0m\u001b[0;31m:\u001b[0m invalid syntax\n"
     ]
    }
   ],
   "source": [
    "class Name(nn.Module):     # Name = model name (class name)\n",
    "    def__init__(self, var1, var2):\n",
    "        super(Name, self).__init__()\n",
    "        ....\n",
    "        # define layers\n",
    "        ....\n",
    "        \n",
    "    def forward(self, x, y):\n",
    "        \n",
    "        ....\n",
    "        \n",
    "        ....\n",
    "        \n",
    "        return....\n",
    "        "
   ]
  },
  {
   "cell_type": "code",
   "execution_count": 31,
   "id": "f83aaf53",
   "metadata": {},
   "outputs": [],
   "source": [
    "class LR(nn.Module):\n",
    "    def __init__(self):\n",
    "        super(LR, self).__init__()\n",
    "        self.layer_1 = nn.Linear(10, 1)\n",
    "        self.sig = nn.Sigmoid()\n",
    "    def forward(self, x):\n",
    "        out0 = self.layer_1(x)\n",
    "        out1 = self.sig(out0)\n",
    "        return out1\n",
    "    \n",
    "    "
   ]
  },
  {
   "cell_type": "markdown",
   "id": "ce47727e",
   "metadata": {},
   "source": [
    "### Define the model and instanciate the class."
   ]
  },
  {
   "cell_type": "code",
   "execution_count": 37,
   "id": "ec362f8e",
   "metadata": {},
   "outputs": [],
   "source": [
    "model = LR()"
   ]
  },
  {
   "cell_type": "markdown",
   "id": "c4204949",
   "metadata": {},
   "source": [
    "### As our data set has been ready now we will import the model, define loss function and train it using SGD"
   ]
  },
  {
   "cell_type": "code",
   "execution_count": 43,
   "id": "e0c90dff",
   "metadata": {},
   "outputs": [],
   "source": [
    "loss_fun = nn.BCELoss() # as we are using binary classification we will use binary class entropy loss.\n",
    "optimizer = torch.optim.SGD(model.parameters(), lr = 0.001)\n"
   ]
  },
  {
   "cell_type": "markdown",
   "id": "7aa260ce",
   "metadata": {},
   "source": [
    "### Model training "
   ]
  },
  {
   "cell_type": "code",
   "execution_count": 58,
   "id": "e6bb139c",
   "metadata": {},
   "outputs": [],
   "source": [
    "num_epochs = 10000\n",
    "losses = []\n",
    "\n",
    "for epoch in range(num_epochs):\n",
    "    output = model(X)\n",
    "    loss = loss_fun(output, Y)\n",
    "    losses.append(loss.detach().numpy())\n",
    "    \n",
    "    optimizer.zero_grad()\n",
    "    loss.backward()\n",
    "    optimizer.step()"
   ]
  },
  {
   "cell_type": "code",
   "execution_count": 59,
   "id": "40842e7f",
   "metadata": {},
   "outputs": [
    {
     "data": {
      "image/png": "[encoded data removed]",
      "text/plain": [
       "<Figure size 640x480 with 1 Axes>"
      ]
     },
     "metadata": {},
     "output_type": "display_data"
    }
   ],
   "source": [
    "plt.xlabel(\"Epochs\")\n",
    "plt.ylabel(\"Loss\")\n",
    "plt.title(\"Loss function\")\n",
    "plt.legend(\"Training\")\n",
    "plt.plot(losses)\n",
    "plt.show()"
   ]
  },
  {
   "cell_type": "code",
   "execution_count": null,
   "id": "bddc01be",
   "metadata": {},
   "outputs": [],
   "source": []
  },
  {
   "cell_type": "code",
   "execution_count": null,
   "id": "c5348f9e",
   "metadata": {},
   "outputs": [],
   "source": []
  },
  {
   "cell_type": "code",
   "execution_count": null,
   "id": "3038d248",
   "metadata": {},
   "outputs": [],
   "source": []
  },
  {
   "cell_type": "code",
   "execution_count": null,
   "id": "3fe29146",
   "metadata": {},
   "outputs": [],
   "source": []
  },
  {
   "cell_type": "code",
   "execution_count": null,
   "id": "b3bbfd7f",
   "metadata": {},
   "outputs": [],
   "source": []
  },
  {
   "cell_type": "code",
   "execution_count": null,
   "id": "8ebec017",
   "metadata": {},
   "outputs": [],
   "source": []
  },
  {
   "cell_type": "code",
   "execution_count": null,
   "id": "4548b8b4",
   "metadata": {},
   "outputs": [],
   "source": []
  }
 ],
 "metadata": {
  "kernelspec": {
   "display_name": "Python 3 (ipykernel)",
   "language": "python",
   "name": "python3"
  },
  "language_info": {
   "codemirror_mode": {
    "name": "ipython",
    "version": 3
   },
   "file_extension": ".py",
   "mimetype": "text/x-python",
   "name": "python",
   "nbconvert_exporter": "python",
   "pygments_lexer": "ipython3",
   "version": "3.8.10"
  }
 },
 "nbformat": 4,
 "nbformat_minor": 5
}
