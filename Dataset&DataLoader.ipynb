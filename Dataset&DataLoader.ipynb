{
 "cells": [
  {
   "cell_type": "markdown",
   "id": "92962b1c",
   "metadata": {},
   "source": [
    "## Data_loader and data sets "
   ]
  },
  {
   "cell_type": "markdown",
   "id": "9d464da0",
   "metadata": {},
   "source": [
    "### Dataset will take your data set and it will structure in a perticuler format that will be given to the model.\n"
   ]
  },
  {
   "cell_type": "markdown",
   "id": "71adc444",
   "metadata": {},
   "source": [
    "### Dataset has a specific format how to call it with the help of a class function. The standerd format is given below."
   ]
  },
  {
   "cell_type": "code",
   "execution_count": 2,
   "id": "c01a68b0",
   "metadata": {},
   "outputs": [
    {
     "ename": "SyntaxError",
     "evalue": "invalid syntax (1846018653.py, line 6)",
     "output_type": "error",
     "traceback": [
      "\u001b[0;36m  Cell \u001b[0;32mIn[2], line 6\u001b[0;36m\u001b[0m\n\u001b[0;31m    ....\u001b[0m\n\u001b[0m        ^\u001b[0m\n\u001b[0;31mSyntaxError\u001b[0m\u001b[0;31m:\u001b[0m invalid syntax\n"
     ]
    }
   ],
   "source": [
    "# Here we will define 3 functions 1st init the constructor where we initialize the variables.\n",
    "\n",
    "# CustDat ---> Name of the class \n",
    "# torch.utils.data.Dataset ----> fix library \n",
    "\n",
    "class CustDat(torch.utils.data.Dataset):\n",
    "    def __init__(self, df, var_1):\n",
    "        # initialize the variables\n",
    "        ....\n",
    "        ....\n",
    "        \n",
    "# len will give the number of rows in the dataset.\n",
    "\n",
    "    def __len__(self):\n",
    "        # return the length of the dataset \n",
    "        return...\n",
    "    \n",
    "# get item will take each and every row and convert it to a format so that you can feed it to your neural network(Model).\n",
    "\n",
    "    def __getitem__(self, idx):\n",
    "        # return each tensor wrt the index idx \n",
    "        return ...\n"
   ]
  },
  {
   "cell_type": "code",
   "execution_count": 5,
   "id": "be9f3e99",
   "metadata": {},
   "outputs": [],
   "source": [
    "import numpy as np\n",
    "import torch \n",
    "import torch.nn as nn\n",
    "import pandas as pd\n",
    "from sklearn.datasets import make_classification"
   ]
  },
  {
   "cell_type": "code",
   "execution_count": 9,
   "id": "e0dbfaea",
   "metadata": {},
   "outputs": [
    {
     "data": {
      "text/plain": [
       "(array([[-0.22951134, -1.28486655, -1.03529083, ..., -0.88437624,\n",
       "         -0.31200188, -0.17531851],\n",
       "        [ 0.78397162, -8.42042118, -6.4500266 , ..., -4.89386705,\n",
       "          1.48164292, -3.9907251 ],\n",
       "        [-1.21508496, -0.16449479, -1.56549441, ...,  0.06566343,\n",
       "          2.90958903,  0.1178769 ],\n",
       "        ...,\n",
       "        [-1.62400922,  2.6916193 , -1.20914198, ...,  0.73644272,\n",
       "         -4.43333782,  0.29673543],\n",
       "        [ 0.88222046,  2.08500059, -1.95358229, ...,  0.45077147,\n",
       "          1.19496267,  2.56893869],\n",
       "        [ 0.70462012, -1.30252083,  2.12350211, ...,  1.59723925,\n",
       "          5.2594936 , -1.12237264]]),\n",
       " array([0, 0, 0, ..., 1, 0, 0]))"
      ]
     },
     "execution_count": 9,
     "metadata": {},
     "output_type": "execute_result"
    }
   ],
   "source": [
    "X, Y = make_classification(n_samples = 2000, n_features = 10, n_informative = 8, n_classes =2, random_state = 1234)\n",
    "X, Y"
   ]
  },
  {
   "cell_type": "code",
   "execution_count": 11,
   "id": "382c6535",
   "metadata": {},
   "outputs": [
    {
     "data": {
      "text/html": [
       "<div>\n",
       "<style scoped>\n",
       "    .dataframe tbody tr th:only-of-type {\n",
       "        vertical-align: middle;\n",
       "    }\n",
       "\n",
       "    .dataframe tbody tr th {\n",
       "        vertical-align: top;\n",
       "    }\n",
       "\n",
       "    .dataframe thead th {\n",
       "        text-align: right;\n",
       "    }\n",
       "</style>\n",
       "<table border=\"1\" class=\"dataframe\">\n",
       "  <thead>\n",
       "    <tr style=\"text-align: right;\">\n",
       "      <th></th>\n",
       "      <th>0</th>\n",
       "      <th>1</th>\n",
       "      <th>2</th>\n",
       "      <th>3</th>\n",
       "      <th>4</th>\n",
       "      <th>5</th>\n",
       "      <th>6</th>\n",
       "      <th>7</th>\n",
       "      <th>8</th>\n",
       "      <th>9</th>\n",
       "    </tr>\n",
       "  </thead>\n",
       "  <tbody>\n",
       "    <tr>\n",
       "      <th>0</th>\n",
       "      <td>-0.229511</td>\n",
       "      <td>-1.284867</td>\n",
       "      <td>-1.035291</td>\n",
       "      <td>1.558939</td>\n",
       "      <td>-0.664283</td>\n",
       "      <td>-0.587712</td>\n",
       "      <td>0.286911</td>\n",
       "      <td>-0.884376</td>\n",
       "      <td>-0.312002</td>\n",
       "      <td>-0.175319</td>\n",
       "    </tr>\n",
       "    <tr>\n",
       "      <th>1</th>\n",
       "      <td>0.783972</td>\n",
       "      <td>-8.420421</td>\n",
       "      <td>-6.450027</td>\n",
       "      <td>-1.357731</td>\n",
       "      <td>3.216398</td>\n",
       "      <td>2.277358</td>\n",
       "      <td>0.900431</td>\n",
       "      <td>-4.893867</td>\n",
       "      <td>1.481643</td>\n",
       "      <td>-3.990725</td>\n",
       "    </tr>\n",
       "    <tr>\n",
       "      <th>2</th>\n",
       "      <td>-1.215085</td>\n",
       "      <td>-0.164495</td>\n",
       "      <td>-1.565494</td>\n",
       "      <td>0.903494</td>\n",
       "      <td>0.292994</td>\n",
       "      <td>1.455418</td>\n",
       "      <td>-4.046064</td>\n",
       "      <td>0.065663</td>\n",
       "      <td>2.909589</td>\n",
       "      <td>0.117877</td>\n",
       "    </tr>\n",
       "    <tr>\n",
       "      <th>3</th>\n",
       "      <td>-4.327243</td>\n",
       "      <td>5.263402</td>\n",
       "      <td>3.149521</td>\n",
       "      <td>-4.101906</td>\n",
       "      <td>1.833046</td>\n",
       "      <td>-3.189375</td>\n",
       "      <td>-0.339469</td>\n",
       "      <td>0.666235</td>\n",
       "      <td>-7.029234</td>\n",
       "      <td>-1.035204</td>\n",
       "    </tr>\n",
       "    <tr>\n",
       "      <th>4</th>\n",
       "      <td>3.697831</td>\n",
       "      <td>-2.873489</td>\n",
       "      <td>-0.720934</td>\n",
       "      <td>2.541765</td>\n",
       "      <td>2.102532</td>\n",
       "      <td>2.790593</td>\n",
       "      <td>-1.795269</td>\n",
       "      <td>4.109290</td>\n",
       "      <td>8.011738</td>\n",
       "      <td>1.285353</td>\n",
       "    </tr>\n",
       "    <tr>\n",
       "      <th>...</th>\n",
       "      <td>...</td>\n",
       "      <td>...</td>\n",
       "      <td>...</td>\n",
       "      <td>...</td>\n",
       "      <td>...</td>\n",
       "      <td>...</td>\n",
       "      <td>...</td>\n",
       "      <td>...</td>\n",
       "      <td>...</td>\n",
       "      <td>...</td>\n",
       "    </tr>\n",
       "    <tr>\n",
       "      <th>1995</th>\n",
       "      <td>-0.003929</td>\n",
       "      <td>-3.763024</td>\n",
       "      <td>-0.105216</td>\n",
       "      <td>1.236162</td>\n",
       "      <td>0.259713</td>\n",
       "      <td>0.920605</td>\n",
       "      <td>-0.949792</td>\n",
       "      <td>-0.085153</td>\n",
       "      <td>2.720104</td>\n",
       "      <td>-3.486621</td>\n",
       "    </tr>\n",
       "    <tr>\n",
       "      <th>1996</th>\n",
       "      <td>0.622498</td>\n",
       "      <td>-0.259702</td>\n",
       "      <td>-3.146410</td>\n",
       "      <td>-0.255492</td>\n",
       "      <td>-0.931579</td>\n",
       "      <td>2.150363</td>\n",
       "      <td>-3.137205</td>\n",
       "      <td>1.943374</td>\n",
       "      <td>-0.206618</td>\n",
       "      <td>-3.441643</td>\n",
       "    </tr>\n",
       "    <tr>\n",
       "      <th>1997</th>\n",
       "      <td>-1.624009</td>\n",
       "      <td>2.691619</td>\n",
       "      <td>-1.209142</td>\n",
       "      <td>-2.581748</td>\n",
       "      <td>2.439387</td>\n",
       "      <td>-1.997896</td>\n",
       "      <td>-1.285824</td>\n",
       "      <td>0.736443</td>\n",
       "      <td>-4.433338</td>\n",
       "      <td>0.296735</td>\n",
       "    </tr>\n",
       "    <tr>\n",
       "      <th>1998</th>\n",
       "      <td>0.882220</td>\n",
       "      <td>2.085001</td>\n",
       "      <td>-1.953582</td>\n",
       "      <td>1.826337</td>\n",
       "      <td>-2.154304</td>\n",
       "      <td>-0.392498</td>\n",
       "      <td>-3.731504</td>\n",
       "      <td>0.450771</td>\n",
       "      <td>1.194963</td>\n",
       "      <td>2.568939</td>\n",
       "    </tr>\n",
       "    <tr>\n",
       "      <th>1999</th>\n",
       "      <td>0.704620</td>\n",
       "      <td>-1.302521</td>\n",
       "      <td>2.123502</td>\n",
       "      <td>0.550289</td>\n",
       "      <td>0.063839</td>\n",
       "      <td>2.942484</td>\n",
       "      <td>-0.857016</td>\n",
       "      <td>1.597239</td>\n",
       "      <td>5.259494</td>\n",
       "      <td>-1.122373</td>\n",
       "    </tr>\n",
       "  </tbody>\n",
       "</table>\n",
       "<p>2000 rows × 10 columns</p>\n",
       "</div>"
      ],
      "text/plain": [
       "             0         1         2         3         4         5         6  \\\n",
       "0    -0.229511 -1.284867 -1.035291  1.558939 -0.664283 -0.587712  0.286911   \n",
       "1     0.783972 -8.420421 -6.450027 -1.357731  3.216398  2.277358  0.900431   \n",
       "2    -1.215085 -0.164495 -1.565494  0.903494  0.292994  1.455418 -4.046064   \n",
       "3    -4.327243  5.263402  3.149521 -4.101906  1.833046 -3.189375 -0.339469   \n",
       "4     3.697831 -2.873489 -0.720934  2.541765  2.102532  2.790593 -1.795269   \n",
       "...        ...       ...       ...       ...       ...       ...       ...   \n",
       "1995 -0.003929 -3.763024 -0.105216  1.236162  0.259713  0.920605 -0.949792   \n",
       "1996  0.622498 -0.259702 -3.146410 -0.255492 -0.931579  2.150363 -3.137205   \n",
       "1997 -1.624009  2.691619 -1.209142 -2.581748  2.439387 -1.997896 -1.285824   \n",
       "1998  0.882220  2.085001 -1.953582  1.826337 -2.154304 -0.392498 -3.731504   \n",
       "1999  0.704620 -1.302521  2.123502  0.550289  0.063839  2.942484 -0.857016   \n",
       "\n",
       "             7         8         9  \n",
       "0    -0.884376 -0.312002 -0.175319  \n",
       "1    -4.893867  1.481643 -3.990725  \n",
       "2     0.065663  2.909589  0.117877  \n",
       "3     0.666235 -7.029234 -1.035204  \n",
       "4     4.109290  8.011738  1.285353  \n",
       "...        ...       ...       ...  \n",
       "1995 -0.085153  2.720104 -3.486621  \n",
       "1996  1.943374 -0.206618 -3.441643  \n",
       "1997  0.736443 -4.433338  0.296735  \n",
       "1998  0.450771  1.194963  2.568939  \n",
       "1999  1.597239  5.259494 -1.122373  \n",
       "\n",
       "[2000 rows x 10 columns]"
      ]
     },
     "execution_count": 11,
     "metadata": {},
     "output_type": "execute_result"
    }
   ],
   "source": [
    "X = pd.DataFrame(X)\n",
    "X"
   ]
  },
  {
   "cell_type": "code",
   "execution_count": 13,
   "id": "2da9ea1e",
   "metadata": {},
   "outputs": [
    {
     "data": {
      "text/plain": [
       "2000"
      ]
     },
     "execution_count": 13,
     "metadata": {},
     "output_type": "execute_result"
    }
   ],
   "source": [
    "X.shape[0]"
   ]
  },
  {
   "cell_type": "markdown",
   "id": "52a50883",
   "metadata": {},
   "source": [
    "### We know that torch does every operation in tensors not in numpy arrays."
   ]
  },
  {
   "cell_type": "code",
   "execution_count": 52,
   "id": "93f449d2",
   "metadata": {},
   "outputs": [
    {
     "data": {
      "text/plain": [
       "(pandas.core.frame.DataFrame, numpy.ndarray)"
      ]
     },
     "execution_count": 52,
     "metadata": {},
     "output_type": "execute_result"
    }
   ],
   "source": [
    "type(X), type(Y)"
   ]
  },
  {
   "cell_type": "code",
   "execution_count": null,
   "id": "ca984dbc",
   "metadata": {},
   "outputs": [],
   "source": []
  },
  {
   "cell_type": "code",
   "execution_count": null,
   "id": "5b3f436e",
   "metadata": {},
   "outputs": [],
   "source": []
  },
  {
   "cell_type": "markdown",
   "id": "0db86067",
   "metadata": {},
   "source": [
    "## Fisrt we will look to the Dataset library."
   ]
  },
  {
   "cell_type": "code",
   "execution_count": 69,
   "id": "ff8f7bff",
   "metadata": {},
   "outputs": [],
   "source": [
    "# Now here we will define the class with the necessay above discussed functions. \n",
    "\n",
    "class CustData(torch.utils.data.Dataset):\n",
    "# This class will take 2 values as input.\n",
    "\n",
    "    def __init__(self, X, Y):\n",
    "        self.X = X \n",
    "        self.Y = Y\n",
    "    def __len__(self):\n",
    "        return self.X.shape[0]\n",
    "\n",
    "# here in this function if we provide the index as idx then it should return that item means that row. \n",
    "\n",
    "    def __getitem__(self, idx ):\n",
    "#         x_values = self.X.iloc[idx].values\n",
    "        x_values = self.X.iloc[idx].values\n",
    "        y_values = self.Y[idx]\n",
    "# convert data to a tensor as torch works only in tensors.\n",
    "        x_values = torch.from_numpy(x_values)\n",
    "        y_values = torch.tensor(y_values)\n",
    "\n",
    "        return x_values, y_values\n",
    "        "
   ]
  },
  {
   "cell_type": "code",
   "execution_count": 70,
   "id": "08e0dfec",
   "metadata": {},
   "outputs": [
    {
     "data": {
      "text/plain": [
       "(tensor([-1.2151, -0.1645, -1.5655,  0.9035,  0.2930,  1.4554, -4.0461,  0.0657,\n",
       "          2.9096,  0.1179], dtype=torch.float64),\n",
       " tensor(0))"
      ]
     },
     "execution_count": 70,
     "metadata": {},
     "output_type": "execute_result"
    }
   ],
   "source": [
    "CustData(X,Y).__getitem__(2)"
   ]
  },
  {
   "cell_type": "code",
   "execution_count": 71,
   "id": "b874159d",
   "metadata": {},
   "outputs": [
    {
     "data": {
      "text/plain": [
       "2000"
      ]
     },
     "execution_count": 71,
     "metadata": {},
     "output_type": "execute_result"
    }
   ],
   "source": [
    "CustData(X,Y).__len__()"
   ]
  },
  {
   "cell_type": "code",
   "execution_count": 72,
   "id": "adf57bca",
   "metadata": {},
   "outputs": [
    {
     "data": {
      "text/plain": [
       "array([0, 0, 0, ..., 1, 0, 0])"
      ]
     },
     "execution_count": 72,
     "metadata": {},
     "output_type": "execute_result"
    }
   ],
   "source": [
    "Y"
   ]
  },
  {
   "cell_type": "markdown",
   "id": "111b60db",
   "metadata": {},
   "source": [
    "## Now we will look in to the DataLoader we use Dataloader it is a function that we use in order to merge all the columns and give you an entire batch, so it is used in making batches. \n",
    "\n",
    "## The standerd way is shown below.\n",
    "\n",
    "\n",
    "### cd = CustDat(df, var1)    `it is the class we have already instantiated.` \n",
    "### dl - dataloader \n",
    "### dl = torch.utils.data.Dataloader (  \n",
    "###                                                        cd, >  ` first parameter is class itself library we have already created`, \n",
    "###                                                        batch_size = 16 >  `second parameter is compulsory batch size can use 16`,\n",
    "###                                                        shuffle = True > ` it means we will shuffle the orders`,\n",
    "###                                                        num_workers = 2 > `Parallel processing that fetch the data mostly 2 look in `,\n",
    "###                                                        pin_memory = False `Need to look it is False as we are not using GPU `, \n",
    "###                                                       #sampler = None ` like shuffle how you want to get idx`,\n",
    "###                                                       #collate_fn = new_collate, `Need to look it up`\n",
    "###                                                     )"
   ]
  },
  {
   "cell_type": "code",
   "execution_count": 80,
   "id": "c529816b",
   "metadata": {},
   "outputs": [],
   "source": [
    "cd = CustData(X, Y) # here we have passed our data set X, Y "
   ]
  },
  {
   "cell_type": "code",
   "execution_count": 81,
   "id": "373072ed",
   "metadata": {},
   "outputs": [],
   "source": [
    "dl = torch.utils.data.DataLoader(cd, batch_size = 16, shuffle = True, num_workers = 2, pin_memory = False )"
   ]
  },
  {
   "cell_type": "code",
   "execution_count": 82,
   "id": "6b1ed5a2",
   "metadata": {},
   "outputs": [
    {
     "name": "stderr",
     "output_type": "stream",
     "text": [
      "Traceback (most recent call last):\n",
      "  File \"<string>\", line 1, in <module>\n",
      "  File \"/Users/pavankumar/.pyenv/versions/3.8.10/lib/python3.8/multiprocessing/spawn.py\", line 116, in spawn_main\n",
      "    exitcode = _main(fd, parent_sentinel)\n",
      "  File \"/Users/pavankumar/.pyenv/versions/3.8.10/lib/python3.8/multiprocessing/spawn.py\", line 126, in _main\n",
      "    self = reduction.pickle.load(from_parent)\n",
      "AttributeError: Can't get attribute 'CustData' on <module '__main__' (built-in)>\n"
     ]
    },
    {
     "ename": "KeyboardInterrupt",
     "evalue": "",
     "output_type": "error",
     "traceback": [
      "\u001b[0;31m---------------------------------------------------------------------------\u001b[0m",
      "\u001b[0;31mKeyboardInterrupt\u001b[0m                         Traceback (most recent call last)",
      "Cell \u001b[0;32mIn[82], line 1\u001b[0m\n\u001b[0;32m----> 1\u001b[0m \u001b[38;5;28;01mfor\u001b[39;00m data \u001b[38;5;129;01min\u001b[39;00m dl:\n\u001b[1;32m      2\u001b[0m     \u001b[38;5;28mprint\u001b[39m(data[\u001b[38;5;241m0\u001b[39m]\u001b[38;5;241m.\u001b[39mshape)\n\u001b[1;32m      3\u001b[0m     \u001b[38;5;28;01mbreak\u001b[39;00m\n",
      "File \u001b[0;32m~/.pyenv/versions/3.8.10/lib/python3.8/site-packages/torch/utils/data/dataloader.py:438\u001b[0m, in \u001b[0;36mDataLoader.__iter__\u001b[0;34m(self)\u001b[0m\n\u001b[1;32m    436\u001b[0m     \u001b[38;5;28;01mreturn\u001b[39;00m \u001b[38;5;28mself\u001b[39m\u001b[38;5;241m.\u001b[39m_iterator\n\u001b[1;32m    437\u001b[0m \u001b[38;5;28;01melse\u001b[39;00m:\n\u001b[0;32m--> 438\u001b[0m     \u001b[38;5;28;01mreturn\u001b[39;00m \u001b[38;5;28;43mself\u001b[39;49m\u001b[38;5;241;43m.\u001b[39;49m\u001b[43m_get_iterator\u001b[49m\u001b[43m(\u001b[49m\u001b[43m)\u001b[49m\n",
      "File \u001b[0;32m~/.pyenv/versions/3.8.10/lib/python3.8/site-packages/torch/utils/data/dataloader.py:386\u001b[0m, in \u001b[0;36mDataLoader._get_iterator\u001b[0;34m(self)\u001b[0m\n\u001b[1;32m    384\u001b[0m \u001b[38;5;28;01melse\u001b[39;00m:\n\u001b[1;32m    385\u001b[0m     \u001b[38;5;28mself\u001b[39m\u001b[38;5;241m.\u001b[39mcheck_worker_number_rationality()\n\u001b[0;32m--> 386\u001b[0m     \u001b[38;5;28;01mreturn\u001b[39;00m \u001b[43m_MultiProcessingDataLoaderIter\u001b[49m\u001b[43m(\u001b[49m\u001b[38;5;28;43mself\u001b[39;49m\u001b[43m)\u001b[49m\n",
      "File \u001b[0;32m~/.pyenv/versions/3.8.10/lib/python3.8/site-packages/torch/utils/data/dataloader.py:1039\u001b[0m, in \u001b[0;36m_MultiProcessingDataLoaderIter.__init__\u001b[0;34m(self, loader)\u001b[0m\n\u001b[1;32m   1032\u001b[0m w\u001b[38;5;241m.\u001b[39mdaemon \u001b[38;5;241m=\u001b[39m \u001b[38;5;28;01mTrue\u001b[39;00m\n\u001b[1;32m   1033\u001b[0m \u001b[38;5;66;03m# NB: Process.start() actually take some time as it needs to\u001b[39;00m\n\u001b[1;32m   1034\u001b[0m \u001b[38;5;66;03m#     start a process and pass the arguments over via a pipe.\u001b[39;00m\n\u001b[1;32m   1035\u001b[0m \u001b[38;5;66;03m#     Therefore, we only add a worker to self._workers list after\u001b[39;00m\n\u001b[1;32m   1036\u001b[0m \u001b[38;5;66;03m#     it started, so that we do not call .join() if program dies\u001b[39;00m\n\u001b[1;32m   1037\u001b[0m \u001b[38;5;66;03m#     before it starts, and __del__ tries to join but will get:\u001b[39;00m\n\u001b[1;32m   1038\u001b[0m \u001b[38;5;66;03m#     AssertionError: can only join a started process.\u001b[39;00m\n\u001b[0;32m-> 1039\u001b[0m \u001b[43mw\u001b[49m\u001b[38;5;241;43m.\u001b[39;49m\u001b[43mstart\u001b[49m\u001b[43m(\u001b[49m\u001b[43m)\u001b[49m\n\u001b[1;32m   1040\u001b[0m \u001b[38;5;28mself\u001b[39m\u001b[38;5;241m.\u001b[39m_index_queues\u001b[38;5;241m.\u001b[39mappend(index_queue)\n\u001b[1;32m   1041\u001b[0m \u001b[38;5;28mself\u001b[39m\u001b[38;5;241m.\u001b[39m_workers\u001b[38;5;241m.\u001b[39mappend(w)\n",
      "File \u001b[0;32m~/.pyenv/versions/3.8.10/lib/python3.8/multiprocessing/process.py:121\u001b[0m, in \u001b[0;36mBaseProcess.start\u001b[0;34m(self)\u001b[0m\n\u001b[1;32m    118\u001b[0m \u001b[38;5;28;01massert\u001b[39;00m \u001b[38;5;129;01mnot\u001b[39;00m _current_process\u001b[38;5;241m.\u001b[39m_config\u001b[38;5;241m.\u001b[39mget(\u001b[38;5;124m'\u001b[39m\u001b[38;5;124mdaemon\u001b[39m\u001b[38;5;124m'\u001b[39m), \\\n\u001b[1;32m    119\u001b[0m        \u001b[38;5;124m'\u001b[39m\u001b[38;5;124mdaemonic processes are not allowed to have children\u001b[39m\u001b[38;5;124m'\u001b[39m\n\u001b[1;32m    120\u001b[0m _cleanup()\n\u001b[0;32m--> 121\u001b[0m \u001b[38;5;28mself\u001b[39m\u001b[38;5;241m.\u001b[39m_popen \u001b[38;5;241m=\u001b[39m \u001b[38;5;28;43mself\u001b[39;49m\u001b[38;5;241;43m.\u001b[39;49m\u001b[43m_Popen\u001b[49m\u001b[43m(\u001b[49m\u001b[38;5;28;43mself\u001b[39;49m\u001b[43m)\u001b[49m\n\u001b[1;32m    122\u001b[0m \u001b[38;5;28mself\u001b[39m\u001b[38;5;241m.\u001b[39m_sentinel \u001b[38;5;241m=\u001b[39m \u001b[38;5;28mself\u001b[39m\u001b[38;5;241m.\u001b[39m_popen\u001b[38;5;241m.\u001b[39msentinel\n\u001b[1;32m    123\u001b[0m \u001b[38;5;66;03m# Avoid a refcycle if the target function holds an indirect\u001b[39;00m\n\u001b[1;32m    124\u001b[0m \u001b[38;5;66;03m# reference to the process object (see bpo-30775)\u001b[39;00m\n",
      "File \u001b[0;32m~/.pyenv/versions/3.8.10/lib/python3.8/multiprocessing/context.py:224\u001b[0m, in \u001b[0;36mProcess._Popen\u001b[0;34m(process_obj)\u001b[0m\n\u001b[1;32m    222\u001b[0m \u001b[38;5;129m@staticmethod\u001b[39m\n\u001b[1;32m    223\u001b[0m \u001b[38;5;28;01mdef\u001b[39;00m \u001b[38;5;21m_Popen\u001b[39m(process_obj):\n\u001b[0;32m--> 224\u001b[0m     \u001b[38;5;28;01mreturn\u001b[39;00m \u001b[43m_default_context\u001b[49m\u001b[38;5;241;43m.\u001b[39;49m\u001b[43mget_context\u001b[49m\u001b[43m(\u001b[49m\u001b[43m)\u001b[49m\u001b[38;5;241;43m.\u001b[39;49m\u001b[43mProcess\u001b[49m\u001b[38;5;241;43m.\u001b[39;49m\u001b[43m_Popen\u001b[49m\u001b[43m(\u001b[49m\u001b[43mprocess_obj\u001b[49m\u001b[43m)\u001b[49m\n",
      "File \u001b[0;32m~/.pyenv/versions/3.8.10/lib/python3.8/multiprocessing/context.py:284\u001b[0m, in \u001b[0;36mSpawnProcess._Popen\u001b[0;34m(process_obj)\u001b[0m\n\u001b[1;32m    281\u001b[0m \u001b[38;5;129m@staticmethod\u001b[39m\n\u001b[1;32m    282\u001b[0m \u001b[38;5;28;01mdef\u001b[39;00m \u001b[38;5;21m_Popen\u001b[39m(process_obj):\n\u001b[1;32m    283\u001b[0m     \u001b[38;5;28;01mfrom\u001b[39;00m \u001b[38;5;21;01m.\u001b[39;00m\u001b[38;5;21;01mpopen_spawn_posix\u001b[39;00m \u001b[38;5;28;01mimport\u001b[39;00m Popen\n\u001b[0;32m--> 284\u001b[0m     \u001b[38;5;28;01mreturn\u001b[39;00m \u001b[43mPopen\u001b[49m\u001b[43m(\u001b[49m\u001b[43mprocess_obj\u001b[49m\u001b[43m)\u001b[49m\n",
      "File \u001b[0;32m~/.pyenv/versions/3.8.10/lib/python3.8/multiprocessing/popen_spawn_posix.py:32\u001b[0m, in \u001b[0;36mPopen.__init__\u001b[0;34m(self, process_obj)\u001b[0m\n\u001b[1;32m     30\u001b[0m \u001b[38;5;28;01mdef\u001b[39;00m \u001b[38;5;21m__init__\u001b[39m(\u001b[38;5;28mself\u001b[39m, process_obj):\n\u001b[1;32m     31\u001b[0m     \u001b[38;5;28mself\u001b[39m\u001b[38;5;241m.\u001b[39m_fds \u001b[38;5;241m=\u001b[39m []\n\u001b[0;32m---> 32\u001b[0m     \u001b[38;5;28;43msuper\u001b[39;49m\u001b[43m(\u001b[49m\u001b[43m)\u001b[49m\u001b[38;5;241;43m.\u001b[39;49m\u001b[38;5;21;43m__init__\u001b[39;49m\u001b[43m(\u001b[49m\u001b[43mprocess_obj\u001b[49m\u001b[43m)\u001b[49m\n",
      "File \u001b[0;32m~/.pyenv/versions/3.8.10/lib/python3.8/multiprocessing/popen_fork.py:19\u001b[0m, in \u001b[0;36mPopen.__init__\u001b[0;34m(self, process_obj)\u001b[0m\n\u001b[1;32m     17\u001b[0m \u001b[38;5;28mself\u001b[39m\u001b[38;5;241m.\u001b[39mreturncode \u001b[38;5;241m=\u001b[39m \u001b[38;5;28;01mNone\u001b[39;00m\n\u001b[1;32m     18\u001b[0m \u001b[38;5;28mself\u001b[39m\u001b[38;5;241m.\u001b[39mfinalizer \u001b[38;5;241m=\u001b[39m \u001b[38;5;28;01mNone\u001b[39;00m\n\u001b[0;32m---> 19\u001b[0m \u001b[38;5;28;43mself\u001b[39;49m\u001b[38;5;241;43m.\u001b[39;49m\u001b[43m_launch\u001b[49m\u001b[43m(\u001b[49m\u001b[43mprocess_obj\u001b[49m\u001b[43m)\u001b[49m\n",
      "File \u001b[0;32m~/.pyenv/versions/3.8.10/lib/python3.8/multiprocessing/popen_spawn_posix.py:62\u001b[0m, in \u001b[0;36mPopen._launch\u001b[0;34m(self, process_obj)\u001b[0m\n\u001b[1;32m     60\u001b[0m     \u001b[38;5;28mself\u001b[39m\u001b[38;5;241m.\u001b[39msentinel \u001b[38;5;241m=\u001b[39m parent_r\n\u001b[1;32m     61\u001b[0m     \u001b[38;5;28;01mwith\u001b[39;00m \u001b[38;5;28mopen\u001b[39m(parent_w, \u001b[38;5;124m'\u001b[39m\u001b[38;5;124mwb\u001b[39m\u001b[38;5;124m'\u001b[39m, closefd\u001b[38;5;241m=\u001b[39m\u001b[38;5;28;01mFalse\u001b[39;00m) \u001b[38;5;28;01mas\u001b[39;00m f:\n\u001b[0;32m---> 62\u001b[0m         \u001b[43mf\u001b[49m\u001b[38;5;241;43m.\u001b[39;49m\u001b[43mwrite\u001b[49m\u001b[43m(\u001b[49m\u001b[43mfp\u001b[49m\u001b[38;5;241;43m.\u001b[39;49m\u001b[43mgetbuffer\u001b[49m\u001b[43m(\u001b[49m\u001b[43m)\u001b[49m\u001b[43m)\u001b[49m\n\u001b[1;32m     63\u001b[0m \u001b[38;5;28;01mfinally\u001b[39;00m:\n\u001b[1;32m     64\u001b[0m     fds_to_close \u001b[38;5;241m=\u001b[39m []\n",
      "\u001b[0;31mKeyboardInterrupt\u001b[0m: "
     ]
    }
   ],
   "source": [
    "for data in dl:\n",
    "    print(data[0].shape)\n",
    "    break\n",
    "    \n"
   ]
  },
  {
   "cell_type": "code",
   "execution_count": null,
   "id": "68259fc3",
   "metadata": {},
   "outputs": [],
   "source": []
  },
  {
   "cell_type": "code",
   "execution_count": null,
   "id": "a01a75be",
   "metadata": {},
   "outputs": [],
   "source": []
  },
  {
   "cell_type": "code",
   "execution_count": null,
   "id": "df55d704",
   "metadata": {},
   "outputs": [],
   "source": []
  },
  {
   "cell_type": "code",
   "execution_count": null,
   "id": "1739e1b7",
   "metadata": {},
   "outputs": [],
   "source": []
  },
  {
   "cell_type": "code",
   "execution_count": null,
   "id": "a4fca2a0",
   "metadata": {},
   "outputs": [],
   "source": []
  },
  {
   "cell_type": "code",
   "execution_count": null,
   "id": "7abfe235",
   "metadata": {},
   "outputs": [],
   "source": []
  },
  {
   "cell_type": "code",
   "execution_count": null,
   "id": "897645f6",
   "metadata": {},
   "outputs": [],
   "source": []
  },
  {
   "cell_type": "code",
   "execution_count": null,
   "id": "d472cd72",
   "metadata": {},
   "outputs": [],
   "source": []
  },
  {
   "cell_type": "code",
   "execution_count": null,
   "id": "7192e95f",
   "metadata": {},
   "outputs": [],
   "source": []
  },
  {
   "cell_type": "code",
   "execution_count": null,
   "id": "8375fe49",
   "metadata": {},
   "outputs": [],
   "source": []
  },
  {
   "cell_type": "code",
   "execution_count": null,
   "id": "37b4a496",
   "metadata": {},
   "outputs": [],
   "source": []
  }
 ],
 "metadata": {
  "kernelspec": {
   "display_name": "Python 3 (ipykernel)",
   "language": "python",
   "name": "python3"
  },
  "language_info": {
   "codemirror_mode": {
    "name": "ipython",
    "version": 3
   },
   "file_extension": ".py",
   "mimetype": "text/x-python",
   "name": "python",
   "nbconvert_exporter": "python",
   "pygments_lexer": "ipython3",
   "version": "3.8.10"
  }
 },
 "nbformat": 4,
 "nbformat_minor": 5
}
